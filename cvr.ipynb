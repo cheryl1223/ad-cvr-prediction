{
 "cells": [
  {
   "cell_type": "code",
   "execution_count": 1,
   "metadata": {
    "collapsed": false
   },
   "outputs": [
    {
     "name": "stderr",
     "output_type": "stream",
     "text": [
      "/usr/local/lib/python2.7/site-packages/sklearn/cross_validation.py:44: DeprecationWarning: This module was deprecated in version 0.18 in favor of the model_selection module into which all the refactored classes and functions are moved. Also note that the interface of the new CV iterators are different from that of this module. This module will be removed in 0.20.\n",
      "  \"This module will be removed in 0.20.\", DeprecationWarning)\n"
     ]
    },
    {
     "name": "stdout",
     "output_type": "stream",
     "text": [
      "0.123658523946\n",
      "0.12320703242\n"
     ]
    }
   ],
   "source": [
    "# baseline\n",
    "\n",
    "\n",
    "import zipfile\n",
    "import pandas as pd\n",
    "from scipy import sparse\n",
    "from sklearn.preprocessing import OneHotEncoder\n",
    "from sklearn.linear_model import LogisticRegression\n",
    "import scipy as sp\n",
    "\n",
    "def logloss(act, pred):\n",
    "  epsilon = 1e-15\n",
    "  pred = sp.maximum(epsilon, pred)\n",
    "  pred = sp.minimum(1-epsilon, pred)\n",
    "  ll = sum(act*sp.log(pred) + sp.subtract(1,act)*sp.log(sp.subtract(1,pred)))\n",
    "  ll = ll * -1.0/len(act)\n",
    "  return ll\n",
    "# load data\n",
    "data_root = \".\"\n",
    "dfTrain = pd.read_csv(\"%s/train.csv\"%data_root)\n",
    "dfTest = pd.read_csv(\"%s/test.csv\"%data_root)\n",
    "dfAd = pd.read_csv(\"%s/ad.csv\"%data_root)\n",
    "\n",
    "# process data\n",
    "dfTrain = pd.merge(dfTrain, dfAd, on=\"creativeID\")\n",
    "dfTest = pd.merge(dfTest, dfAd, on=\"creativeID\")\n",
    "dfTrain = dfTrain.drop('conversionTime', 1)\n",
    "dfTrain = dfTrain.drop('clickTime', 1)\n",
    "dfTrain = dfTrain.dropna(axis=0, how='any')\n",
    "y = dfTrain['label']\n",
    "dfTrain = dfTrain.drop('label', 1)\n",
    "     \n",
    "from sklearn.cross_validation import train_test_split\n",
    "X_train, X_test, y_train, y_test = train_test_split(dfTrain, y, test_size=0.1, random_state=0)\n",
    "# model training\n",
    "lr = LogisticRegression()\n",
    "lr.fit(X_train, y_train)\n",
    "pre_train = lr.predict_proba(X_train)[:,1]\n",
    "pre_test = lr.predict_proba(X_test)[:,1]\n",
    "\n",
    "print logloss(y_train,pre_train)\n",
    "print logloss(y_test,pre_test)"
   ]
  },
  {
   "cell_type": "code",
   "execution_count": 1,
   "metadata": {
    "collapsed": false
   },
   "outputs": [
    {
     "name": "stderr",
     "output_type": "stream",
     "text": [
      "/usr/local/lib/python2.7/site-packages/sklearn/cross_validation.py:44: DeprecationWarning: This module was deprecated in version 0.18 in favor of the model_selection module into which all the refactored classes and functions are moved. Also note that the interface of the new CV iterators are different from that of this module. This module will be removed in 0.20.\n",
      "  \"This module will be removed in 0.20.\", DeprecationWarning)\n"
     ]
    }
   ],
   "source": [
    "import numpy as np\n",
    "import pandas as pd\n",
    "import xgboost as xgb\n",
    "\n",
    "from scipy import sparse\n",
    "from sklearn.preprocessing import OneHotEncoder\n",
    "from sklearn.linear_model import LogisticRegression\n",
    "\n",
    "# load data\n",
    "data_root = \".\"\n",
    "dfTrain = pd.read_csv(\"%s/train.csv\"%data_root)\n",
    "dfAd = pd.read_csv(\"%s/ad.csv\"%data_root)\n",
    "dfPosition = pd.read_csv(\"%s/position.csv\"%data_root)\n",
    "dfCategory = pd.read_csv(\"%s/app_categories.csv\"%data_root)\n",
    "dfUser = pd.read_csv(\"%s/user.csv\"%data_root)\n",
    "# process data\n",
    "dfTrain = pd.merge(dfTrain, dfAd, on=\"creativeID\")\n",
    "dfTrain = pd.merge(dfTrain, dfUser, on=\"userID\")\n",
    "dfTrain = pd.merge(dfTrain, dfPosition, on=\"positionID\")\n",
    "dfTrain = pd.merge(dfTrain, dfCategory, on=\"appID\")"
   ]
  },
  {
   "cell_type": "code",
   "execution_count": 2,
   "metadata": {
    "collapsed": false,
    "deletable": true,
    "editable": true
   },
   "outputs": [],
   "source": [
    "#Temporal features\n",
    "dfTrain['clickTime_day'] = dfTrain['clickTime'].map(lambda x:int(x/10000))\n",
    "dfTrain['clickTime_hour'] = dfTrain['clickTime'].map(lambda x:int(x/100%100))\n",
    "dfTrain['clickTime_minute'] = dfTrain['clickTime'].map(lambda x:int(x%100))\n",
    "\n",
    "#Click count feature\n",
    "dfCount = dfTrain.groupby('userID').size().reset_index(name='click_count')\n",
    "dfTrain = pd.merge(dfTrain, dfCount, on=\"userID\")"
   ]
  },
  {
   "cell_type": "code",
   "execution_count": 3,
   "metadata": {
    "collapsed": false
   },
   "outputs": [
    {
     "name": "stdout",
     "output_type": "stream",
     "text": [
      "   label  clickTime  conversionTime  creativeID   userID  positionID  \\\n",
      "0      0     170000             NaN        3089  2798058         293   \n",
      "1      0     180028             NaN        3089  1683269         293   \n",
      "2      0     191045             NaN        3089   240899         293   \n",
      "3      0     202250             NaN        5970  2270688         293   \n",
      "4      0     201637             NaN        2524  2270688        2720   \n",
      "\n",
      "   connectionType  telecomsOperator  adID  camgaignID     ...       haveBaby  \\\n",
      "0               1                 1  1321          83     ...              1   \n",
      "1               2                 3  1321          83     ...              0   \n",
      "2               1                 2  1321          83     ...              0   \n",
      "3               1                 2   612          83     ...              0   \n",
      "4               1                 2   134          83     ...              0   \n",
      "\n",
      "   hometown  residence  sitesetID  positionType  appCategory  clickTime_day  \\\n",
      "0       NaN     1301.0          0             3          108             17   \n",
      "1    2109.0     1303.0          0             3          108             18   \n",
      "2    1303.0     1004.0          0             3          108             19   \n",
      "3    1302.6     1303.0          0             3          108             20   \n",
      "4    1302.2     1303.0          0             3          108             20   \n",
      "\n",
      "   clickTime_hour  clickTime_minute  click_count  \n",
      "0               0                 0            1  \n",
      "1               0                28            1  \n",
      "2              10                45            1  \n",
      "3              22                50            4  \n",
      "4              16                37            4  \n",
      "\n",
      "[5 rows x 27 columns]\n"
     ]
    }
   ],
   "source": [
    "#Fill missing data\n",
    "dfTrain['age'] = dfTrain['age'].replace(0,np.nan)\n",
    "dfTrain['residence'] = dfTrain['residence'].replace(0,np.nan)\n",
    "dfTrain['hometown'] = dfTrain['hometown'].replace(0,np.nan)\n",
    "dfTrain = dfTrain.interpolate(method = 'values')\n",
    "print dfTrain.head()\n"
   ]
  },
  {
   "cell_type": "code",
   "execution_count": 4,
   "metadata": {
    "collapsed": false
   },
   "outputs": [
    {
     "name": "stdout",
     "output_type": "stream",
     "text": [
      "   creativeID   userID  positionID  connectionType  telecomsOperator  adID  \\\n",
      "1        3089  1683269         293               2                 3  1321   \n",
      "2        3089   240899         293               1                 2  1321   \n",
      "3        5970  2270688         293               1                 2   612   \n",
      "4        2524  2270688        2720               1                 2   134   \n",
      "5         225  2270688        6995               1                 2  1977   \n",
      "\n",
      "   camgaignID  advertiserID  appID  appPlatform     ...       haveBaby  \\\n",
      "1          83            10    434            1     ...              0   \n",
      "2          83            10    434            1     ...              0   \n",
      "3          83            10    434            1     ...              0   \n",
      "4          83            10    434            1     ...              0   \n",
      "5          83            10    434            1     ...              0   \n",
      "\n",
      "   hometown  residence  sitesetID  positionType  appCategory  clickTime_day  \\\n",
      "1    2109.0     1303.0          0             3          108             18   \n",
      "2    1303.0     1004.0          0             3          108             19   \n",
      "3    1302.6     1303.0          0             3          108             20   \n",
      "4    1302.2     1303.0          0             3          108             20   \n",
      "5    1301.8     1303.0          0             1          108             18   \n",
      "\n",
      "   clickTime_hour  clickTime_minute  click_count  \n",
      "1               0                28            1  \n",
      "2              10                45            1  \n",
      "3              22                50            4  \n",
      "4              16                37            4  \n",
      "5              20                51            4  \n",
      "\n",
      "[5 rows x 24 columns]\n"
     ]
    }
   ],
   "source": [
    "# Drop missing data\n",
    "dfTrain = dfTrain.drop('conversionTime', 1)\n",
    "dfTrain = dfTrain.drop('clickTime', 1)\n",
    "dfTrain = dfTrain.dropna(axis=0, how='any')\n",
    "y = dfTrain['label']\n",
    "dfTrain = dfTrain.drop('label', 1)\n",
    "print dfTrain.head()\n",
    "#X_train = dfTrain"
   ]
  },
  {
   "cell_type": "code",
   "execution_count": 5,
   "metadata": {
    "collapsed": false
   },
   "outputs": [
    {
     "name": "stdout",
     "output_type": "stream",
     "text": [
      "(3749527, 68)\n"
     ]
    }
   ],
   "source": [
    "# one-hot encoding\n",
    "feats = ['connectionType','telecomsOperator',\"appPlatform\",'gender','education','marriageStatus','haveBaby','positionType','appCategory']\n",
    "Xtrain = pd.get_dummies(dfTrain,columns = feats,sparse=True)\n",
    "print Xtrain.shape"
   ]
  },
  {
   "cell_type": "code",
   "execution_count": 6,
   "metadata": {
    "collapsed": false,
    "deletable": true,
    "editable": true
   },
   "outputs": [
    {
     "name": "stdout",
     "output_type": "stream",
     "text": [
      "   creativeID    userID  positionID      adID  camgaignID  advertiserID  \\\n",
      "0    0.469230  0.600071    0.038200  0.365145    0.114047           0.1   \n",
      "1    0.469230  0.085878    0.038200  0.365145    0.114047           0.1   \n",
      "2    0.907005  0.809480    0.038200  0.169018    0.114047           0.1   \n",
      "3    0.383376  0.809480    0.355704  0.036791    0.114047           0.1   \n",
      "4    0.034037  0.809480    0.914966  0.546611    0.114047           0.1   \n",
      "\n",
      "      appID       age  hometown  residence       ...         appCategory_106  \\\n",
      "0  0.917031  0.240506  0.608485   0.364435       ...                     0.0   \n",
      "1  0.917031  0.227848  0.364242   0.273856       ...                     0.0   \n",
      "2  0.917031  0.240506  0.364121   0.364435       ...                     0.0   \n",
      "3  0.917031  0.240506  0.364000   0.364435       ...                     0.0   \n",
      "4  0.917031  0.240506  0.363879   0.364435       ...                     0.0   \n",
      "\n",
      "   appCategory_108  appCategory_201  appCategory_203  appCategory_209  \\\n",
      "0              1.0              0.0              0.0              0.0   \n",
      "1              1.0              0.0              0.0              0.0   \n",
      "2              1.0              0.0              0.0              0.0   \n",
      "3              1.0              0.0              0.0              0.0   \n",
      "4              1.0              0.0              0.0              0.0   \n",
      "\n",
      "   appCategory_301  appCategory_402  appCategory_407  appCategory_408  \\\n",
      "0              0.0              0.0              0.0              0.0   \n",
      "1              0.0              0.0              0.0              0.0   \n",
      "2              0.0              0.0              0.0              0.0   \n",
      "3              0.0              0.0              0.0              0.0   \n",
      "4              0.0              0.0              0.0              0.0   \n",
      "\n",
      "   appCategory_503  \n",
      "0              0.0  \n",
      "1              0.0  \n",
      "2              0.0  \n",
      "3              0.0  \n",
      "4              0.0  \n",
      "\n",
      "[5 rows x 68 columns]\n"
     ]
    }
   ],
   "source": [
    "# normalization\n",
    "from sklearn.preprocessing import MinMaxScaler\n",
    "scaler = MinMaxScaler()\n",
    "Xtrain_scaled = pd.DataFrame(scaler.fit_transform(Xtrain), columns=Xtrain.columns)\n",
    "print Xtrain_scaled.head()"
   ]
  },
  {
   "cell_type": "code",
   "execution_count": 7,
   "metadata": {
    "collapsed": false,
    "deletable": true,
    "editable": true
   },
   "outputs": [
    {
     "name": "stdout",
     "output_type": "stream",
     "text": [
      "(3374574, 68)\n",
      "(374953, 68)\n",
      "(3374574,)\n",
      "(374953,)\n"
     ]
    }
   ],
   "source": [
    "# cross-validation\n",
    "from sklearn.cross_validation import train_test_split\n",
    "X_train, X_test, y_train, y_test = train_test_split(Xtrain_scaled, y, test_size=0.1, random_state=0)\n",
    "print(X_train.shape)\n",
    "print(X_test.shape)\n",
    "print(y_train.shape)\n",
    "print(y_test.shape)"
   ]
  },
  {
   "cell_type": "code",
   "execution_count": 8,
   "metadata": {
    "collapsed": true,
    "deletable": true,
    "editable": true
   },
   "outputs": [],
   "source": [
    "# logloss function\n",
    "import scipy as sp\n",
    "import numpy as np\n",
    "def logloss(act, pred):\n",
    "  epsilon = 1e-15\n",
    "  pred = sp.maximum(epsilon, pred)\n",
    "  pred = sp.minimum(1-epsilon, pred)\n",
    "  ll = sum(act*sp.log(pred) + sp.subtract(1,act)*sp.log(sp.subtract(1,pred)))\n",
    "  ll = ll * -1.0/len(act)\n",
    "  return ll"
   ]
  },
  {
   "cell_type": "code",
   "execution_count": 11,
   "metadata": {
    "collapsed": false,
    "deletable": true,
    "editable": true
   },
   "outputs": [
    {
     "data": {
      "text/plain": [
       "RandomForestClassifier(bootstrap=True, class_weight=None, criterion='gini',\n",
       "            max_depth=None, max_features='auto', max_leaf_nodes=None,\n",
       "            min_impurity_split=1e-07, min_samples_leaf=1,\n",
       "            min_samples_split=2, min_weight_fraction_leaf=0.0,\n",
       "            n_estimators=50, n_jobs=1, oob_score=False, random_state=None,\n",
       "            verbose=0, warm_start=False)"
      ]
     },
     "execution_count": 11,
     "metadata": {},
     "output_type": "execute_result"
    }
   ],
   "source": [
    "import matplotlib.pyplot as plt\n",
    "from sklearn.ensemble import RandomForestClassifier\n",
    "\n",
    "clf = RandomForestClassifier(n_estimators=50)\n",
    "clf.fit(X_train,y_train)\n"
   ]
  },
  {
   "cell_type": "code",
   "execution_count": 12,
   "metadata": {
    "collapsed": false
   },
   "outputs": [
    {
     "name": "stdout",
     "output_type": "stream",
     "text": [
      "0.0211584545087\n",
      "0.252509803951\n"
     ]
    }
   ],
   "source": [
    "clf_train = clf.predict_proba(X_train)[:,1]\n",
    "clf_test = clf.predict_proba(X_test)[:,1]\n",
    "\n",
    "print logloss(y_train,clf_train)\n",
    "print logloss(y_test,clf_test)"
   ]
  },
  {
   "cell_type": "code",
   "execution_count": 13,
   "metadata": {
    "collapsed": false,
    "deletable": true,
    "editable": true
   },
   "outputs": [
    {
     "name": "stdout",
     "output_type": "stream",
     "text": [
      "['userID', 'hometown', 'clickTime_minute', 'residence', 'age', 'clickTime_hour', 'clickTime_day', 'positionID', 'creativeID', 'adID', 'click_count', 'camgaignID', 'telecomsOperator_1', 'telecomsOperator_3', 'marriageStatus_0', 'education_1', 'telecomsOperator_2', 'education_3', 'education_2', 'marriageStatus_1', 'education_0', 'marriageStatus_2', 'haveBaby_0', 'advertiserID', 'education_4', 'haveBaby_1', 'appCategory_407', 'education_5', 'marriageStatus_3', 'appID', 'gender_1', 'gender_2', 'telecomsOperator_0', 'gender_0', 'sitesetID', 'haveBaby_2', 'connectionType_1', 'positionType_0', 'education_6', 'haveBaby_3', 'haveBaby_4', 'positionType_1', 'haveBaby_5', 'connectionType_2', 'appCategory_402', 'education_7', 'haveBaby_6', 'positionType_5', 'appCategory_104', 'positionType_3', 'appPlatform_2', 'appPlatform_1', 'appCategory_201', 'appCategory_2', 'positionType_2', 'appCategory_209', 'appCategory_203', 'connectionType_3', 'appCategory_108', 'appCategory_503', 'connectionType_4', 'connectionType_0', 'appCategory_101', 'appCategory_0', 'appCategory_301', 'positionType_4', 'appCategory_106', 'appCategory_408']\n",
      "[  1.20514626e-01   1.16317133e-01   1.11519322e-01   1.06160154e-01\n",
      "   8.21118332e-02   7.47407287e-02   6.36708617e-02   5.08324085e-02\n",
      "   2.80933526e-02   1.95620596e-02   1.77038045e-02   1.64416441e-02\n",
      "   1.14945842e-02   1.08603485e-02   1.00832698e-02   9.89138955e-03\n",
      "   9.81815895e-03   9.50481424e-03   9.09798582e-03   9.02296889e-03\n",
      "   8.42773481e-03   7.18661717e-03   6.98478864e-03   6.88635217e-03\n",
      "   6.74991106e-03   6.14371280e-03   5.98063026e-03   5.78689881e-03\n",
      "   5.68861001e-03   5.46158046e-03   5.29732380e-03   4.84921586e-03\n",
      "   3.98792043e-03   3.57298018e-03   2.34230491e-03   2.12989148e-03\n",
      "   2.10826541e-03   1.84134405e-03   1.75063104e-03   1.60751502e-03\n",
      "   1.48604790e-03   1.47424590e-03   1.38173757e-03   1.35727327e-03\n",
      "   1.24561663e-03   1.22953484e-03   1.07271285e-03   9.40629087e-04\n",
      "   8.59552397e-04   8.32147295e-04   8.02992669e-04   6.65361169e-04\n",
      "   5.17538170e-04   4.79862186e-04   4.54079415e-04   4.42476398e-04\n",
      "   4.30060786e-04   4.22893967e-04   3.15831616e-04   3.03253242e-04\n",
      "   2.73543112e-04   2.18871773e-04   2.13151363e-04   1.79398036e-04\n",
      "   1.42818624e-04   2.25649211e-05   9.67499510e-06   4.53538087e-07]\n"
     ]
    }
   ],
   "source": [
    "#feature importance\n",
    "importances = clf.feature_importances_\n",
    "importance = pd.DataFrame(importances, index=X_train.columns, \n",
    "                          columns=[\"importance\"])\n",
    "std = np.std([tree.feature_importances_ for tree in clf.estimators_],\n",
    "             axis=0)\n",
    "importance = importance.sort_values(by='importance', ascending=False)\n",
    "indices =  importance.index.tolist()\n",
    "importance = np.reshape(importance.values,-1)\n",
    "print indices\n",
    "print importance"
   ]
  },
  {
   "cell_type": "code",
   "execution_count": 14,
   "metadata": {
    "collapsed": false,
    "deletable": true,
    "editable": true,
    "scrolled": true
   },
   "outputs": [
    {
     "data": {
      "image/png": "[encoded data removed]",
      "text/plain": [
       "<matplotlib.figure.Figure at 0x1202419d0>"
      ]
     },
     "metadata": {},
     "output_type": "display_data"
    }
   ],
   "source": [
    "# Plot the feature importances of the forest\n",
    "plt.figure(figsize=(20,5))\n",
    "plt.title(\"Top 15 feature importance\")\n",
    "plt.bar(range(15),importance[0:15],\n",
    "       color='lightskyblue', align=\"center\")\n",
    "plt.xticks(range(15), indices[0:15])\n",
    "plt.rc('xtick', labelsize=10)\n",
    "plt.xlim([-1, 15])\n",
    "plt.savefig('20.jpg')\n",
    "plt.show()\n"
   ]
  },
  {
   "cell_type": "code",
   "execution_count": 15,
   "metadata": {
    "collapsed": false,
    "deletable": true,
    "editable": true
   },
   "outputs": [
    {
     "name": "stdout",
     "output_type": "stream",
     "text": [
      "[0]\tvalidation_0-rmse:0.455058\n",
      "Will train until validation_0-rmse hasn't improved in 2 rounds.\n",
      "[1]\tvalidation_0-rmse:0.41536\n",
      "[2]\tvalidation_0-rmse:0.380283\n",
      "[3]\tvalidation_0-rmse:0.34932\n",
      "[4]\tvalidation_0-rmse:0.322023\n",
      "[5]\tvalidation_0-rmse:0.297994\n",
      "[6]\tvalidation_0-rmse:0.276932\n",
      "[7]\tvalidation_0-rmse:0.258526\n",
      "[8]\tvalidation_0-rmse:0.242499\n",
      "[9]\tvalidation_0-rmse:0.228615\n",
      "[10]\tvalidation_0-rmse:0.216643\n",
      "[11]\tvalidation_0-rmse:0.206343\n",
      "[12]\tvalidation_0-rmse:0.197539\n",
      "[13]\tvalidation_0-rmse:0.190054\n",
      "[14]\tvalidation_0-rmse:0.183711\n",
      "[15]\tvalidation_0-rmse:0.178355\n",
      "[16]\tvalidation_0-rmse:0.173869\n",
      "[17]\tvalidation_0-rmse:0.170108\n",
      "[18]\tvalidation_0-rmse:0.166977\n",
      "[19]\tvalidation_0-rmse:0.164369\n",
      "[20]\tvalidation_0-rmse:0.162201\n",
      "[21]\tvalidation_0-rmse:0.16041\n",
      "[22]\tvalidation_0-rmse:0.158927\n",
      "[23]\tvalidation_0-rmse:0.157709\n",
      "[24]\tvalidation_0-rmse:0.156715\n",
      "[25]\tvalidation_0-rmse:0.155887\n",
      "[26]\tvalidation_0-rmse:0.155193\n",
      "[27]\tvalidation_0-rmse:0.154641\n",
      "[28]\tvalidation_0-rmse:0.15419\n",
      "[29]\tvalidation_0-rmse:0.153829\n",
      "[30]\tvalidation_0-rmse:0.153521\n",
      "[31]\tvalidation_0-rmse:0.153275\n",
      "[32]\tvalidation_0-rmse:0.153082\n",
      "[33]\tvalidation_0-rmse:0.152923\n",
      "[34]\tvalidation_0-rmse:0.152776\n",
      "[35]\tvalidation_0-rmse:0.152644\n",
      "[36]\tvalidation_0-rmse:0.152551\n",
      "[37]\tvalidation_0-rmse:0.152467\n",
      "[38]\tvalidation_0-rmse:0.152413\n",
      "[39]\tvalidation_0-rmse:0.152367\n",
      "[40]\tvalidation_0-rmse:0.152326\n",
      "[41]\tvalidation_0-rmse:0.152296\n",
      "[42]\tvalidation_0-rmse:0.152266\n",
      "[43]\tvalidation_0-rmse:0.152245\n",
      "[44]\tvalidation_0-rmse:0.152211\n",
      "[45]\tvalidation_0-rmse:0.152199\n",
      "[46]\tvalidation_0-rmse:0.152172\n",
      "[47]\tvalidation_0-rmse:0.152158\n",
      "[48]\tvalidation_0-rmse:0.152146\n",
      "[49]\tvalidation_0-rmse:0.152118\n",
      "[50]\tvalidation_0-rmse:0.152111\n",
      "[51]\tvalidation_0-rmse:0.152101\n",
      "[52]\tvalidation_0-rmse:0.152091\n",
      "[53]\tvalidation_0-rmse:0.152083\n",
      "[54]\tvalidation_0-rmse:0.152044\n",
      "[55]\tvalidation_0-rmse:0.152012\n",
      "[56]\tvalidation_0-rmse:0.152003\n",
      "[57]\tvalidation_0-rmse:0.151978\n",
      "[58]\tvalidation_0-rmse:0.151951\n",
      "[59]\tvalidation_0-rmse:0.151937\n",
      "[60]\tvalidation_0-rmse:0.151927\n",
      "[61]\tvalidation_0-rmse:0.15189\n",
      "[62]\tvalidation_0-rmse:0.151873\n",
      "[63]\tvalidation_0-rmse:0.151858\n",
      "[64]\tvalidation_0-rmse:0.151838\n",
      "[65]\tvalidation_0-rmse:0.151823\n",
      "[66]\tvalidation_0-rmse:0.151815\n",
      "[67]\tvalidation_0-rmse:0.151811\n",
      "[68]\tvalidation_0-rmse:0.151805\n",
      "[69]\tvalidation_0-rmse:0.151795\n",
      "[70]\tvalidation_0-rmse:0.151758\n",
      "[71]\tvalidation_0-rmse:0.151742\n",
      "[72]\tvalidation_0-rmse:0.151736\n",
      "[73]\tvalidation_0-rmse:0.151727\n",
      "[74]\tvalidation_0-rmse:0.151723\n",
      "[75]\tvalidation_0-rmse:0.15172\n",
      "[76]\tvalidation_0-rmse:0.151715\n",
      "[77]\tvalidation_0-rmse:0.151706\n",
      "[78]\tvalidation_0-rmse:0.151697\n",
      "[79]\tvalidation_0-rmse:0.151672\n",
      "[80]\tvalidation_0-rmse:0.151662\n",
      "[81]\tvalidation_0-rmse:0.151657\n",
      "[82]\tvalidation_0-rmse:0.151641\n",
      "[83]\tvalidation_0-rmse:0.151636\n",
      "[84]\tvalidation_0-rmse:0.151615\n",
      "[85]\tvalidation_0-rmse:0.151604\n",
      "[86]\tvalidation_0-rmse:0.151598\n",
      "[87]\tvalidation_0-rmse:0.151593\n",
      "[88]\tvalidation_0-rmse:0.15158\n",
      "[89]\tvalidation_0-rmse:0.151575\n",
      "[90]\tvalidation_0-rmse:0.151567\n",
      "[91]\tvalidation_0-rmse:0.151561\n",
      "[92]\tvalidation_0-rmse:0.151543\n",
      "[93]\tvalidation_0-rmse:0.151541\n",
      "[94]\tvalidation_0-rmse:0.151537\n",
      "[95]\tvalidation_0-rmse:0.151533\n",
      "[96]\tvalidation_0-rmse:0.151525\n",
      "[97]\tvalidation_0-rmse:0.151514\n",
      "[98]\tvalidation_0-rmse:0.15151\n",
      "[99]\tvalidation_0-rmse:0.151499\n",
      "[100]\tvalidation_0-rmse:0.151497\n",
      "[101]\tvalidation_0-rmse:0.151487\n",
      "[102]\tvalidation_0-rmse:0.151477\n",
      "[103]\tvalidation_0-rmse:0.151467\n",
      "[104]\tvalidation_0-rmse:0.151457\n",
      "[105]\tvalidation_0-rmse:0.151457\n",
      "[106]\tvalidation_0-rmse:0.151454\n",
      "[107]\tvalidation_0-rmse:0.151453\n",
      "[108]\tvalidation_0-rmse:0.151449\n",
      "[109]\tvalidation_0-rmse:0.151447\n",
      "[110]\tvalidation_0-rmse:0.151445\n",
      "[111]\tvalidation_0-rmse:0.151438\n",
      "[112]\tvalidation_0-rmse:0.151434\n",
      "[113]\tvalidation_0-rmse:0.151431\n",
      "[114]\tvalidation_0-rmse:0.15143\n",
      "[115]\tvalidation_0-rmse:0.151414\n",
      "[116]\tvalidation_0-rmse:0.151412\n",
      "[117]\tvalidation_0-rmse:0.15141\n",
      "[118]\tvalidation_0-rmse:0.15141\n",
      "[119]\tvalidation_0-rmse:0.151407\n",
      "[120]\tvalidation_0-rmse:0.151402\n",
      "[121]\tvalidation_0-rmse:0.151388\n",
      "[122]\tvalidation_0-rmse:0.151377\n",
      "[123]\tvalidation_0-rmse:0.151376\n",
      "[124]\tvalidation_0-rmse:0.15137\n",
      "[125]\tvalidation_0-rmse:0.151369\n",
      "[126]\tvalidation_0-rmse:0.151368\n",
      "[127]\tvalidation_0-rmse:0.151368\n",
      "[128]\tvalidation_0-rmse:0.151365\n",
      "[129]\tvalidation_0-rmse:0.151362\n",
      "[130]\tvalidation_0-rmse:0.151359\n",
      "[131]\tvalidation_0-rmse:0.151355\n",
      "[132]\tvalidation_0-rmse:0.151348\n",
      "[133]\tvalidation_0-rmse:0.15134\n",
      "[134]\tvalidation_0-rmse:0.151337\n",
      "[135]\tvalidation_0-rmse:0.151335\n",
      "[136]\tvalidation_0-rmse:0.151318\n",
      "[137]\tvalidation_0-rmse:0.151311\n",
      "[138]\tvalidation_0-rmse:0.151298\n",
      "[139]\tvalidation_0-rmse:0.151296\n",
      "[140]\tvalidation_0-rmse:0.151293\n",
      "[141]\tvalidation_0-rmse:0.151287\n",
      "[142]\tvalidation_0-rmse:0.151285\n",
      "[143]\tvalidation_0-rmse:0.151279\n",
      "[144]\tvalidation_0-rmse:0.151277\n",
      "[145]\tvalidation_0-rmse:0.151272\n",
      "[146]\tvalidation_0-rmse:0.151271\n",
      "[147]\tvalidation_0-rmse:0.151265\n",
      "[148]\tvalidation_0-rmse:0.151261\n",
      "[149]\tvalidation_0-rmse:0.15126\n",
      "[150]\tvalidation_0-rmse:0.151261\n",
      "[151]\tvalidation_0-rmse:0.151254\n",
      "[152]\tvalidation_0-rmse:0.151252\n",
      "[153]\tvalidation_0-rmse:0.15125\n",
      "[154]\tvalidation_0-rmse:0.151246\n",
      "[155]\tvalidation_0-rmse:0.151241\n",
      "[156]\tvalidation_0-rmse:0.151237\n",
      "[157]\tvalidation_0-rmse:0.151233\n",
      "[158]\tvalidation_0-rmse:0.151232\n",
      "[159]\tvalidation_0-rmse:0.15123\n",
      "[160]\tvalidation_0-rmse:0.151228\n",
      "[161]\tvalidation_0-rmse:0.151226\n",
      "[162]\tvalidation_0-rmse:0.151225\n",
      "[163]\tvalidation_0-rmse:0.151225\n",
      "[164]\tvalidation_0-rmse:0.151223\n",
      "[165]\tvalidation_0-rmse:0.151214\n",
      "[166]\tvalidation_0-rmse:0.151212\n",
      "[167]\tvalidation_0-rmse:0.151209\n",
      "[168]\tvalidation_0-rmse:0.151207\n",
      "[169]\tvalidation_0-rmse:0.151201\n",
      "[170]\tvalidation_0-rmse:0.1512\n",
      "[171]\tvalidation_0-rmse:0.1512\n",
      "[172]\tvalidation_0-rmse:0.151197\n",
      "[173]\tvalidation_0-rmse:0.151196\n",
      "[174]\tvalidation_0-rmse:0.151196\n",
      "[175]\tvalidation_0-rmse:0.151196\n",
      "Stopping. Best iteration:\n",
      "[173]\tvalidation_0-rmse:0.151196\n",
      "\n"
     ]
    },
    {
     "data": {
      "text/plain": [
       "XGBRegressor(base_score=0.5, colsample_bylevel=1, colsample_bytree=0.8,\n",
       "       gamma=0, learning_rate=0.1, max_delta_step=0, max_depth=5,\n",
       "       min_child_weight=1, missing=None, n_estimators=1000, nthread=-1,\n",
       "       objective='binary:logistic', reg_alpha=0, reg_lambda=1,\n",
       "       scale_pos_weight=1, seed=0, silent=True, subsample=0.8)"
      ]
     },
     "execution_count": 15,
     "metadata": {},
     "output_type": "execute_result"
    }
   ],
   "source": [
    "import xgboost as xgb\n",
    "xlf = xgb.XGBRegressor(\n",
    "    learning_rate =0.1,\n",
    "    n_estimators=1000,\n",
    "    max_depth=5,\n",
    "    min_child_weight=1,\n",
    "    gamma=0,\n",
    "    subsample=0.8,\n",
    "    colsample_bytree=0.8,\n",
    "    objective= 'binary:logistic')\n",
    "\n",
    "xlf.fit(X_train, y_train, eval_metric='rmse', eval_set = [(X_test,y_test)],verbose = True, early_stopping_rounds=2)"
   ]
  },
  {
   "cell_type": "code",
   "execution_count": 16,
   "metadata": {
    "collapsed": false,
    "deletable": true,
    "editable": true
   },
   "outputs": [
    {
     "name": "stdout",
     "output_type": "stream",
     "text": [
      "0.100714245239\n",
      "0.0999417426064\n"
     ]
    }
   ],
   "source": [
    "xlf_train = xlf.predict(X_train)\n",
    "xlf_test = xlf.predict(X_test)\n",
    "\n",
    "print logloss(y_train,xlf_train)\n",
    "print logloss(y_test,xlf_test)"
   ]
  },
  {
   "cell_type": "code",
   "execution_count": 17,
   "metadata": {
    "collapsed": false,
    "deletable": true,
    "editable": true
   },
   "outputs": [
    {
     "name": "stdout",
     "output_type": "stream",
     "text": [
      "0.107118789376\n",
      "0.105843664257\n"
     ]
    }
   ],
   "source": [
    "from sklearn.linear_model import LogisticRegression\n",
    "lr = LogisticRegression()\n",
    "lr.fit(X_train, y_train)\n",
    "lr_train = lr.predict_proba(X_train)[:,1]\n",
    "lr_test = lr.predict_proba(X_test)[:,1]\n",
    "\n",
    "print logloss(y_train,lr_train)\n",
    "print logloss(y_test,lr_test)"
   ]
  },
  {
   "cell_type": "code",
   "execution_count": 76,
   "metadata": {
    "collapsed": false
   },
   "outputs": [
    {
     "name": "stdout",
     "output_type": "stream",
     "text": [
      "[0]\tvalidation_0-rmse:0.453209\n",
      "Will train until validation_0-rmse hasn't improved in 10 rounds.\n",
      "[1]\tvalidation_0-rmse:0.411995\n",
      "[2]\tvalidation_0-rmse:0.375706\n",
      "[3]\tvalidation_0-rmse:0.343837\n",
      "[4]\tvalidation_0-rmse:0.315842\n",
      "[5]\tvalidation_0-rmse:0.291432\n",
      "[6]\tvalidation_0-rmse:0.270216\n",
      "[7]\tvalidation_0-rmse:0.251764\n",
      "[8]\tvalidation_0-rmse:0.235883\n",
      "[9]\tvalidation_0-rmse:0.222396\n",
      "[10]\tvalidation_0-rmse:0.210979\n",
      "[11]\tvalidation_0-rmse:0.201245\n",
      "[12]\tvalidation_0-rmse:0.193243\n",
      "[13]\tvalidation_0-rmse:0.186484\n",
      "[14]\tvalidation_0-rmse:0.181064\n",
      "[15]\tvalidation_0-rmse:0.176529\n",
      "[16]\tvalidation_0-rmse:0.172991\n",
      "[17]\tvalidation_0-rmse:0.170027\n",
      "[18]\tvalidation_0-rmse:0.167807\n",
      "[19]\tvalidation_0-rmse:0.1661\n",
      "[20]\tvalidation_0-rmse:0.164626\n",
      "[21]\tvalidation_0-rmse:0.163637\n",
      "[22]\tvalidation_0-rmse:0.162755\n",
      "[23]\tvalidation_0-rmse:0.162236\n",
      "[24]\tvalidation_0-rmse:0.161889\n",
      "[25]\tvalidation_0-rmse:0.161526\n",
      "[26]\tvalidation_0-rmse:0.161407\n",
      "[27]\tvalidation_0-rmse:0.161369\n",
      "[28]\tvalidation_0-rmse:0.161233\n",
      "[29]\tvalidation_0-rmse:0.161297\n",
      "[30]\tvalidation_0-rmse:0.161243\n",
      "[31]\tvalidation_0-rmse:0.161361\n",
      "[32]\tvalidation_0-rmse:0.161499\n",
      "[33]\tvalidation_0-rmse:0.161646\n",
      "[34]\tvalidation_0-rmse:0.161646\n",
      "[35]\tvalidation_0-rmse:0.161795\n",
      "[36]\tvalidation_0-rmse:0.161942\n",
      "[37]\tvalidation_0-rmse:0.161945\n",
      "[38]\tvalidation_0-rmse:0.162085\n",
      "Stopping. Best iteration:\n",
      "[28]\tvalidation_0-rmse:0.161233\n",
      "\n"
     ]
    },
    {
     "data": {
      "text/plain": [
       "XGBRegressor(base_score=0.5, colsample_bylevel=1, colsample_bytree=0.8,\n",
       "       gamma=0, learning_rate=0.1, max_delta_step=0, max_depth=1,\n",
       "       min_child_weight=1, missing=None, n_estimators=800, nthread=-1,\n",
       "       objective='binary:logistic', reg_alpha=0, reg_lambda=1,\n",
       "       scale_pos_weight=1, seed=0, silent=True, subsample=0.8)"
      ]
     },
     "execution_count": 76,
     "metadata": {},
     "output_type": "execute_result"
    }
   ],
   "source": [
    "#ensemble\n",
    "pred_train = np.transpose(np.vstack((lr_train,clf_train,xlf_train)))\n",
    "pred_test = np.transpose(np.vstack((lr_test,clf_test, xlf_test)))\n",
    "\n",
    "#pred_train = np.transpose(np.vstack((lr_train,xlf_train)))\n",
    "#pred_test = np.transpose(np.vstack((lr_test,xlf_test)))\n",
    "#lr.fit(pred_train, y_train)\n",
    "xlf = xgb.XGBRegressor(\n",
    "    learning_rate =0.1,\n",
    "    n_estimators=800,\n",
    "    max_depth=1,\n",
    "    min_child_weight=1,\n",
    "    gamma=0,\n",
    "    subsample=0.8,\n",
    "    colsample_bytree=0.8,\n",
    "    objective= 'binary:logistic')\n",
    "xlf.fit(pred_train, y_train, eval_metric='rmse', eval_set = [(pred_test,y_test)],verbose = True, early_stopping_rounds=5)\n"
   ]
  },
  {
   "cell_type": "code",
   "execution_count": 77,
   "metadata": {
    "collapsed": false
   },
   "outputs": [
    {
     "name": "stdout",
     "output_type": "stream",
     "text": [
      "0.98013\n",
      "0.0118098463243\n",
      "0.129881999324\n"
     ]
    }
   ],
   "source": [
    "xlf_train = xlf.predict(pred_train)\n",
    "xlf_test = xlf.predict(pred_test)\n",
    "print xlf_train.max()\n",
    "#lr_train = lr.predict_proba(pred_train)[:,1]\n",
    "#lr_test = lr.predict_proba(pred_test)[:,1]\n",
    "print logloss(y_train,xlf_train)\n",
    "print logloss(y_test,xlf_test)"
   ]
  },
  {
   "cell_type": "code",
   "execution_count": null,
   "metadata": {
    "collapsed": true
   },
   "outputs": [],
   "source": []
  }
 ],
 "metadata": {
  "kernelspec": {
   "display_name": "Python 2",
   "language": "python",
   "name": "python2"
  },
  "language_info": {
   "codemirror_mode": {
    "name": "ipython",
    "version": 2
   },
   "file_extension": ".py",
   "mimetype": "text/x-python",
   "name": "python",
   "nbconvert_exporter": "python",
   "pygments_lexer": "ipython2",
   "version": "2.7.13"
  }
 },
 "nbformat": 4,
 "nbformat_minor": 2
}
